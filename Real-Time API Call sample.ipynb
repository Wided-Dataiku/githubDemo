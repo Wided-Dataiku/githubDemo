{
  "metadata": {
    "creator": "ludo",
    "customFields": {},
    "kernelspec": {
      "name": "py-dku-venv-internal_object_detection_v1",
      "display_name": "Python (env INTERNAL_object_detection_v1)",
      "language": "python"
    },
    "language_info": {
      "name": "python",
      "version": "3.6.8",
      "mimetype": "text/x-python",
      "codemirror_mode": {
        "name": "ipython",
        "version": 3
      },
      "pygments_lexer": "ipython3",
      "nbconvert_exporter": "python",
      "file_extension": ".py"
    },
    "tags": [],
    "hide_input": false,
    "modifiedBy": "admin"
  },
  "nbformat": 4,
  "nbformat_minor": 1,
  "cells": [
    {
      "execution_count": 18,
      "cell_type": "code",
      "metadata": {},
      "source": [
        "import dataikuapi"
      ],
      "outputs": []
    },
    {
      "execution_count": 19,
      "cell_type": "code",
      "metadata": {},
      "source": [
        "params \u003d {\"contractID\":\"333333\",\"claimAmount\":\"5435\",\"claimDate\":\"2019-08-17\",\"claimExpert\":\"1\",\"litigationFlag\":\"1\",\"claimDept\":\"77\"}"
      ],
      "outputs": []
    },
    {
      "execution_count": 20,
      "cell_type": "code",
      "metadata": {},
      "source": [
        "params"
      ],
      "outputs": [
        {
          "data": {
            "text/plain": "{\u0027claimAmount\u0027: \u00275435\u0027,\n \u0027claimDate\u0027: \u00272019-08-17\u0027,\n \u0027claimDept\u0027: \u002777\u0027,\n \u0027claimExpert\u0027: \u00271\u0027,\n \u0027contractID\u0027: \u0027333333\u0027,\n \u0027litigationFlag\u0027: \u00271\u0027}"
          },
          "execution_count": 20,
          "metadata": {},
          "output_type": "execute_result"
        }
      ]
    },
    {
      "execution_count": 21,
      "cell_type": "code",
      "metadata": {},
      "source": [
        "record_to_predict \u003d {\n    \"contract_id\": params.get(\u0027contractID\u0027),\n    \"claim_amount\": params.get(\u0027claimAmount\u0027),\n    \"claim_date\": params.get(\u0027claimDate\u0027),\n    \"expert\": params.get(\u0027claimExpert\u0027),\n    \"litigation_flag\": params.get(\u0027litigationFlag\u0027),\n    \"code_dep\": params.get(\u0027claimDept\u0027)\n}\nrecord_to_predict"
      ],
      "outputs": [
        {
          "data": {
            "text/plain": "{\u0027claim_amount\u0027: \u00275435\u0027,\n \u0027claim_date\u0027: \u00272019-08-17\u0027,\n \u0027code_dep\u0027: \u002777\u0027,\n \u0027contract_id\u0027: \u0027333333\u0027,\n \u0027expert\u0027: \u00271\u0027,\n \u0027litigation_flag\u0027: \u00271\u0027}"
          },
          "execution_count": 21,
          "metadata": {},
          "output_type": "execute_result"
        }
      ]
    },
    {
      "execution_count": 22,
      "cell_type": "code",
      "metadata": {},
      "source": [
        "client \u003d dataikuapi.APINodeClient(\"http://localhost:11700/\", \"Fraud_Detection\")\n\nrecord_to_predict \u003d {\n    \"contract_id\": \"229959\",\n    \"claim_amount\": \"240.93\",\n    \"claim_date\": \"2015-11-27T00:00:00.000Z\",\n    \"expert\": \"1\",\n    \"litigation_flag\": \"0\",\n    \"code_dep\": 76\n}\nprediction \u003d client.predict_record(\"Fraud_Scoring\", record_to_predict)\nprint(prediction[\"result\"])\n"
      ],
      "outputs": [
        {
          "name": "stdout",
          "output_type": "stream",
          "text": "{u\u0027probaPercentile\u0027: 17, u\u0027ignored\u0027: False, u\u0027probas\u0027: {u\u00271\u0027: 0.011167425662279129, u\u00270\u0027: 0.9888325929641724}, u\u0027prediction\u0027: u\u00270\u0027}\n"
        }
      ]
    },
    {
      "execution_count": 23,
      "cell_type": "code",
      "metadata": {},
      "source": [
        "print(prediction)"
      ],
      "outputs": [
        {
          "name": "stdout",
          "output_type": "stream",
          "text": "{u\u0027timing\u0027: {u\u0027enrich\u0027: 3643, u\u0027prediction\u0027: 137362, u\u0027preparation\u0027: 7, u\u0027preProcessing\u0027: 81, u\u0027postProcessing\u0027: 80, u\u0027wait\u0027: 111}, u\u0027apiContext\u0027: {u\u0027serviceGeneration\u0027: u\u0027v1\u0027, u\u0027serviceId\u0027: u\u0027Fraud_Detection\u0027, u\u0027endpointId\u0027: u\u0027Fraud_Scoring\u0027}, u\u0027result\u0027: {u\u0027probaPercentile\u0027: 17, u\u0027ignored\u0027: False, u\u0027probas\u0027: {u\u00271\u0027: 0.011167425662279129, u\u00270\u0027: 0.9888325929641724}, u\u0027prediction\u0027: u\u00270\u0027}}\n"
        }
      ]
    },
    {
      "execution_count": 0,
      "cell_type": "code",
      "metadata": {},
      "source": [
        ""
      ],
      "outputs": []
    }
  ]
}