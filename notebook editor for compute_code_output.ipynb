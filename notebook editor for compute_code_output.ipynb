{
  "metadata": {
    "kernelspec": {
      "name": "py-dku-venv-new-code-env",
      "display_name": "Python (env new-code-env)",
      "language": "python"
    },
    "associatedRecipe": "compute_code_output",
    "creator": "admin",
    "createdOn": 1656592869249,
    "tags": [
      "recipe-editor"
    ],
    "customFields": {},
    "hide_input": false,
    "language_info": {
      "name": "python",
      "version": "3.6.8",
      "mimetype": "text/x-python",
      "codemirror_mode": {
        "name": "ipython",
        "version": 3
      },
      "pygments_lexer": "ipython3",
      "nbconvert_exporter": "python",
      "file_extension": ".py"
    },
    "modifiedBy": "admin"
  },
  "nbformat": 4,
  "nbformat_minor": 1,
  "cells": [
    {
      "execution_count": 0,
      "cell_type": "code",
      "metadata": {},
      "source": [
        "# -*- coding: utf-8 -*-\nimport dataiku\nimport pandas as pd, numpy as np\nfrom dataiku import pandasutils as pdu\nimport matplotlib\n\n# Read recipe inputs\nflights_enriched_prepared \u003d dataiku.Dataset(\"flights_enriched_prepared\")\nflights_enriched_prepared_df \u003d flights_enriched_prepared.get_dataframe()\n\n\n# Compute recipe outputs from inputs\n# TODO: Replace this part by your actual code that computes the output, as a Pandas dataframe\n# NB: DSS also supports other kinds of APIs for reading and writing data. Please see doc.\n\ncode_output_df \u003d flights_enriched_prepared_df # For this sample code, simply copy input to output\n\n\n# Write recipe outputs\ncode_output \u003d dataiku.Dataset(\"code_output\")\ncode_output.write_with_schema(code_output_df)"
      ],
      "outputs": []
    }
  ]
}